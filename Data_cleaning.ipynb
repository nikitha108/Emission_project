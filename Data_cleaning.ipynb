{
 "cells": [
  {
   "cell_type": "code",
   "execution_count": 20,
   "metadata": {},
   "outputs": [],
   "source": [
    "import pandas as pd\n",
    "import numpy as np\n",
    "import pycountry\n",
    "from pycountry_convert import country_alpha2_to_continent_code, country_name_to_country_alpha2\n"
   ]
  },
  {
   "cell_type": "code",
   "execution_count": 21,
   "metadata": {},
   "outputs": [],
   "source": [
    "data = pd.read_excel('C:/Users/admin/Desktop/Portfolio projects/Emission_project/dataset/emission_data_cleaned.xlsx')\n"
   ]
  },
  {
   "cell_type": "code",
   "execution_count": 22,
   "metadata": {},
   "outputs": [
    {
     "data": {
      "text/plain": [
       "(4016, 74)"
      ]
     },
     "execution_count": 22,
     "metadata": {},
     "output_type": "execute_result"
    }
   ],
   "source": [
    "data.shape"
   ]
  },
  {
   "cell_type": "code",
   "execution_count": 23,
   "metadata": {},
   "outputs": [
    {
     "name": "stdout",
     "output_type": "stream",
     "text": [
      "<class 'pandas.core.frame.DataFrame'>\n",
      "RangeIndex: 4016 entries, 0 to 4015\n",
      "Data columns (total 74 columns):\n",
      " #   Column                                     Non-Null Count  Dtype  \n",
      "---  ------                                     --------------  -----  \n",
      " 0   country                                    4016 non-null   object \n",
      " 1   year                                       4016 non-null   int64  \n",
      " 2   iso_code                                   3456 non-null   object \n",
      " 3   population                                 3680 non-null   float64\n",
      " 4   gdp                                        2469 non-null   float64\n",
      " 5   cement_co2                                 3639 non-null   float64\n",
      " 6   cement_co2_per_capita                      3607 non-null   float64\n",
      " 7   co2                                        3888 non-null   float64\n",
      " 8   co2_growth_abs                             3728 non-null   float64\n",
      " 9   co2_growth_prct                            3728 non-null   float64\n",
      " 10  co2_including_luc                          3376 non-null   float64\n",
      " 11  co2_including_luc_growth_abs               3376 non-null   float64\n",
      " 12  co2_including_luc_growth_prct              3376 non-null   float64\n",
      " 13  co2_including_luc_per_capita               3376 non-null   float64\n",
      " 14  co2_including_luc_per_gdp                  2679 non-null   float64\n",
      " 15  co2_including_luc_per_unit_energy          3066 non-null   float64\n",
      " 16  co2_per_capita                             3696 non-null   float64\n",
      " 17  co2_per_gdp                                2709 non-null   float64\n",
      " 18  co2_per_unit_energy                        3280 non-null   float64\n",
      " 19  coal_co2                                   2530 non-null   float64\n",
      " 20  coal_co2_per_capita                        2498 non-null   float64\n",
      " 21  consumption_co2                            2189 non-null   float64\n",
      " 22  consumption_co2_per_capita                 2053 non-null   float64\n",
      " 23  consumption_co2_per_gdp                    2031 non-null   float64\n",
      " 24  cumulative_cement_co2                      3639 non-null   float64\n",
      " 25  cumulative_co2                             3728 non-null   float64\n",
      " 26  cumulative_co2_including_luc               3376 non-null   float64\n",
      " 27  cumulative_coal_co2                        2530 non-null   float64\n",
      " 28  cumulative_flaring_co2                     3728 non-null   float64\n",
      " 29  cumulative_gas_co2                         2347 non-null   float64\n",
      " 30  cumulative_luc_co2                         3424 non-null   float64\n",
      " 31  cumulative_oil_co2                         3728 non-null   float64\n",
      " 32  energy_per_capita                          3214 non-null   float64\n",
      " 33  energy_per_gdp                             2384 non-null   float64\n",
      " 34  flaring_co2                                3760 non-null   float64\n",
      " 35  flaring_co2_per_capita                     3696 non-null   float64\n",
      " 36  gas_co2                                    2347 non-null   float64\n",
      " 37  gas_co2_per_capita                         2315 non-null   float64\n",
      " 38  ghg_excluding_lucf_per_capita              3328 non-null   float64\n",
      " 39  ghg_per_capita                             3344 non-null   float64\n",
      " 40  land_use_change_co2                        3424 non-null   float64\n",
      " 41  land_use_change_co2_per_capita             3376 non-null   float64\n",
      " 42  methane                                    3440 non-null   float64\n",
      " 43  methane_per_capita                         3344 non-null   float64\n",
      " 44  nitrous_oxide                              3520 non-null   float64\n",
      " 45  nitrous_oxide_per_capita                   3424 non-null   float64\n",
      " 46  oil_co2                                    3728 non-null   float64\n",
      " 47  oil_co2_per_capita                         3696 non-null   float64\n",
      " 48  primary_energy_consumption                 3214 non-null   float64\n",
      " 49  share_global_cement_co2                    3639 non-null   float64\n",
      " 50  share_global_co2                           3728 non-null   float64\n",
      " 51  share_global_co2_including_luc             3376 non-null   float64\n",
      " 52  share_global_coal_co2                      2530 non-null   float64\n",
      " 53  share_global_cumulative_cement_co2         3639 non-null   float64\n",
      " 54  share_global_cumulative_co2                3728 non-null   float64\n",
      " 55  share_global_cumulative_co2_including_luc  3376 non-null   float64\n",
      " 56  share_global_cumulative_coal_co2           2530 non-null   float64\n",
      " 57  share_global_cumulative_flaring_co2        3728 non-null   float64\n",
      " 58  share_global_cumulative_gas_co2            2347 non-null   float64\n",
      " 59  share_global_cumulative_luc_co2            3424 non-null   float64\n",
      " 60  share_global_cumulative_oil_co2            3728 non-null   float64\n",
      " 61  share_global_flaring_co2                   3728 non-null   float64\n",
      " 62  share_global_gas_co2                       2347 non-null   float64\n",
      " 63  share_global_luc_co2                       3424 non-null   float64\n",
      " 64  share_global_oil_co2                       3728 non-null   float64\n",
      " 65  share_of_temperature_change_from_ghg       3760 non-null   float64\n",
      " 66  temperature_change_from_ch4                3520 non-null   float64\n",
      " 67  temperature_change_from_co2                3760 non-null   float64\n",
      " 68  temperature_change_from_ghg                3760 non-null   float64\n",
      " 69  temperature_change_from_n2o                3520 non-null   float64\n",
      " 70  total_ghg                                  3440 non-null   float64\n",
      " 71  total_ghg_excluding_lucf                   3424 non-null   float64\n",
      " 72  trade_co2                                  2069 non-null   float64\n",
      " 73  trade_co2_share                            2069 non-null   float64\n",
      "dtypes: float64(71), int64(1), object(2)\n",
      "memory usage: 2.3+ MB\n"
     ]
    }
   ],
   "source": [
    "data.info()"
   ]
  },
  {
   "cell_type": "code",
   "execution_count": 24,
   "metadata": {},
   "outputs": [],
   "source": [
    "data_cleaned = data.dropna(subset=['country','year','co2'])"
   ]
  },
  {
   "cell_type": "code",
   "execution_count": 25,
   "metadata": {},
   "outputs": [
    {
     "name": "stdout",
     "output_type": "stream",
     "text": [
      "<class 'pandas.core.frame.DataFrame'>\n",
      "Index: 3888 entries, 0 to 4015\n",
      "Data columns (total 74 columns):\n",
      " #   Column                                     Non-Null Count  Dtype  \n",
      "---  ------                                     --------------  -----  \n",
      " 0   country                                    3888 non-null   object \n",
      " 1   year                                       3888 non-null   int64  \n",
      " 2   iso_code                                   3408 non-null   object \n",
      " 3   population                                 3632 non-null   float64\n",
      " 4   gdp                                        2469 non-null   float64\n",
      " 5   cement_co2                                 3639 non-null   float64\n",
      " 6   cement_co2_per_capita                      3607 non-null   float64\n",
      " 7   co2                                        3888 non-null   float64\n",
      " 8   co2_growth_abs                             3728 non-null   float64\n",
      " 9   co2_growth_prct                            3728 non-null   float64\n",
      " 10  co2_including_luc                          3376 non-null   float64\n",
      " 11  co2_including_luc_growth_abs               3376 non-null   float64\n",
      " 12  co2_including_luc_growth_prct              3376 non-null   float64\n",
      " 13  co2_including_luc_per_capita               3376 non-null   float64\n",
      " 14  co2_including_luc_per_gdp                  2679 non-null   float64\n",
      " 15  co2_including_luc_per_unit_energy          3066 non-null   float64\n",
      " 16  co2_per_capita                             3696 non-null   float64\n",
      " 17  co2_per_gdp                                2709 non-null   float64\n",
      " 18  co2_per_unit_energy                        3280 non-null   float64\n",
      " 19  coal_co2                                   2530 non-null   float64\n",
      " 20  coal_co2_per_capita                        2498 non-null   float64\n",
      " 21  consumption_co2                            2173 non-null   float64\n",
      " 22  consumption_co2_per_capita                 2053 non-null   float64\n",
      " 23  consumption_co2_per_gdp                    2031 non-null   float64\n",
      " 24  cumulative_cement_co2                      3639 non-null   float64\n",
      " 25  cumulative_co2                             3728 non-null   float64\n",
      " 26  cumulative_co2_including_luc               3376 non-null   float64\n",
      " 27  cumulative_coal_co2                        2530 non-null   float64\n",
      " 28  cumulative_flaring_co2                     3728 non-null   float64\n",
      " 29  cumulative_gas_co2                         2347 non-null   float64\n",
      " 30  cumulative_luc_co2                         3376 non-null   float64\n",
      " 31  cumulative_oil_co2                         3728 non-null   float64\n",
      " 32  energy_per_capita                          3214 non-null   float64\n",
      " 33  energy_per_gdp                             2384 non-null   float64\n",
      " 34  flaring_co2                                3760 non-null   float64\n",
      " 35  flaring_co2_per_capita                     3696 non-null   float64\n",
      " 36  gas_co2                                    2347 non-null   float64\n",
      " 37  gas_co2_per_capita                         2315 non-null   float64\n",
      " 38  ghg_excluding_lucf_per_capita              3328 non-null   float64\n",
      " 39  ghg_per_capita                             3344 non-null   float64\n",
      " 40  land_use_change_co2                        3376 non-null   float64\n",
      " 41  land_use_change_co2_per_capita             3376 non-null   float64\n",
      " 42  methane                                    3408 non-null   float64\n",
      " 43  methane_per_capita                         3344 non-null   float64\n",
      " 44  nitrous_oxide                              3488 non-null   float64\n",
      " 45  nitrous_oxide_per_capita                   3424 non-null   float64\n",
      " 46  oil_co2                                    3728 non-null   float64\n",
      " 47  oil_co2_per_capita                         3696 non-null   float64\n",
      " 48  primary_energy_consumption                 3214 non-null   float64\n",
      " 49  share_global_cement_co2                    3639 non-null   float64\n",
      " 50  share_global_co2                           3728 non-null   float64\n",
      " 51  share_global_co2_including_luc             3376 non-null   float64\n",
      " 52  share_global_coal_co2                      2530 non-null   float64\n",
      " 53  share_global_cumulative_cement_co2         3639 non-null   float64\n",
      " 54  share_global_cumulative_co2                3728 non-null   float64\n",
      " 55  share_global_cumulative_co2_including_luc  3376 non-null   float64\n",
      " 56  share_global_cumulative_coal_co2           2530 non-null   float64\n",
      " 57  share_global_cumulative_flaring_co2        3728 non-null   float64\n",
      " 58  share_global_cumulative_gas_co2            2347 non-null   float64\n",
      " 59  share_global_cumulative_luc_co2            3376 non-null   float64\n",
      " 60  share_global_cumulative_oil_co2            3728 non-null   float64\n",
      " 61  share_global_flaring_co2                   3728 non-null   float64\n",
      " 62  share_global_gas_co2                       2347 non-null   float64\n",
      " 63  share_global_luc_co2                       3376 non-null   float64\n",
      " 64  share_global_oil_co2                       3728 non-null   float64\n",
      " 65  share_of_temperature_change_from_ghg       3696 non-null   float64\n",
      " 66  temperature_change_from_ch4                3488 non-null   float64\n",
      " 67  temperature_change_from_co2                3696 non-null   float64\n",
      " 68  temperature_change_from_ghg                3696 non-null   float64\n",
      " 69  temperature_change_from_n2o                3488 non-null   float64\n",
      " 70  total_ghg                                  3408 non-null   float64\n",
      " 71  total_ghg_excluding_lucf                   3392 non-null   float64\n",
      " 72  trade_co2                                  2053 non-null   float64\n",
      " 73  trade_co2_share                            2053 non-null   float64\n",
      "dtypes: float64(71), int64(1), object(2)\n",
      "memory usage: 2.2+ MB\n"
     ]
    }
   ],
   "source": [
    "data_cleaned.info()"
   ]
  },
  {
   "cell_type": "code",
   "execution_count": 26,
   "metadata": {},
   "outputs": [],
   "source": [
    "country_data = pd.DataFrame(data['country'].unique())"
   ]
  },
  {
   "cell_type": "code",
   "execution_count": 27,
   "metadata": {},
   "outputs": [
    {
     "name": "stderr",
     "output_type": "stream",
     "text": [
      "C:\\Users\\admin\\AppData\\Local\\Temp\\ipykernel_33112\\3901292087.py:20: SettingWithCopyWarning: \n",
      "A value is trying to be set on a copy of a slice from a DataFrame.\n",
      "Try using .loc[row_indexer,col_indexer] = value instead\n",
      "\n",
      "See the caveats in the documentation: https://pandas.pydata.org/pandas-docs/stable/user_guide/indexing.html#returning-a-view-versus-a-copy\n",
      "  data_cleaned['continent'] = data_cleaned['country'].apply(map_country_to_continent)\n"
     ]
    }
   ],
   "source": [
    "\n",
    "# Function to map country to continent\n",
    "def map_country_to_continent(country_name):\n",
    "    try:\n",
    "        country_alpha2 = country_name_to_country_alpha2(country_name)\n",
    "        continent_code = country_alpha2_to_continent_code(country_alpha2)\n",
    "        continent_mapping = {\n",
    "            'AF': 'Africa',\n",
    "            'AS': 'Asia',\n",
    "            'EU': 'Europe',\n",
    "            'NA': 'North America',\n",
    "            'SA': 'South America',\n",
    "            'OC': 'Oceania',\n",
    "            'AN': 'Antarctica'\n",
    "        }\n",
    "        return continent_mapping.get(continent_code, None)\n",
    "    except KeyError:\n",
    "        return None\n",
    "\n",
    "# Map countries to continents\n",
    "data_cleaned['continent'] = data_cleaned['country'].apply(map_country_to_continent)\n",
    "\n",
    "\n",
    "\n"
   ]
  },
  {
   "cell_type": "code",
   "execution_count": 28,
   "metadata": {},
   "outputs": [
    {
     "data": {
      "text/plain": [
       "array(['Africa', 'Africa (GCP)', 'Asia', 'Asia (excl. China and India)',\n",
       "       'Bonaire Sint Eustatius and Saba', \"Cote d'Ivoire\", 'Curacao',\n",
       "       'Democratic Republic of Congo', 'East Timor', 'Europe',\n",
       "       'Europe (GCP)', 'Europe (excl. EU-27)', 'Europe (excl. EU-28)',\n",
       "       'European Union (27)', 'European Union (28)',\n",
       "       'High-income countries', 'International aviation',\n",
       "       'International shipping', 'Kosovo', 'Kuwaiti Oil Fires (GCP)',\n",
       "       'Low-income countries', 'Lower-middle-income countries',\n",
       "       'Micronesia (country)', 'Middle East (GCP)', 'Non-OECD (GCP)',\n",
       "       'North America', 'North America (GCP)',\n",
       "       'North America (excl. USA)', 'OECD (GCP)', 'Oceania',\n",
       "       'Oceania (GCP)', 'Ryukyu Islands (GCP)', 'Saint Helena',\n",
       "       'Sint Maarten (Dutch part)', 'South America',\n",
       "       'South America (GCP)', 'Upper-middle-income countries', 'World'],\n",
       "      dtype=object)"
      ]
     },
     "execution_count": 28,
     "metadata": {},
     "output_type": "execute_result"
    }
   ],
   "source": [
    "data_cleaned[data_cleaned['continent'].isnull()].country.unique()"
   ]
  },
  {
   "cell_type": "code",
   "execution_count": 29,
   "metadata": {},
   "outputs": [
    {
     "name": "stdout",
     "output_type": "stream",
     "text": [
      "     country continent\n",
      "16    Africa      None\n",
      "17    Africa      None\n",
      "18    Africa      None\n",
      "19    Africa      None\n",
      "20    Africa      None\n",
      "...      ...       ...\n",
      "3963   World      None\n",
      "3964   World      None\n",
      "3965   World      None\n",
      "3966   World      None\n",
      "3967   World      None\n",
      "\n",
      "[608 rows x 2 columns]\n"
     ]
    }
   ],
   "source": [
    "# Check for rows where continent is missing or null\n",
    "missing_continent = data_cleaned[data_cleaned['continent'].isnull() | (data_cleaned['continent'] == '')]\n",
    "print(missing_continent[['country', 'continent']])"
   ]
  },
  {
   "cell_type": "code",
   "execution_count": 30,
   "metadata": {},
   "outputs": [
    {
     "name": "stderr",
     "output_type": "stream",
     "text": [
      "C:\\Users\\admin\\AppData\\Local\\Temp\\ipykernel_33112\\368968565.py:26: SettingWithCopyWarning: \n",
      "A value is trying to be set on a copy of a slice from a DataFrame.\n",
      "Try using .loc[row_indexer,col_indexer] = value instead\n",
      "\n",
      "See the caveats in the documentation: https://pandas.pydata.org/pandas-docs/stable/user_guide/indexing.html#returning-a-view-versus-a-copy\n",
      "  data_cleaned['continent'] = data_cleaned['country'].apply(lambda x: manual_mappings.get(x, None) if x in manual_mappings else map_country_to_continent(x))\n"
     ]
    }
   ],
   "source": [
    "# Manual fixes for non-standard or grouped entities\n",
    "manual_mappings = {\n",
    "    'World': None,  \n",
    "    'European Union': 'Europe',\n",
    "    'Africa': 'Africa',\n",
    "    'Africa GCP': 'Africa' ,\n",
    "    'Asia (excl. China and India)': 'Asia',\n",
    "    'Asia': 'Asia',\n",
    "    'North America': 'North America',\n",
    "    'South America': 'South America',\n",
    "    'Oceania': 'Oceania',\n",
    "    \"Cote d'Ivoire\": \"Africa\",\n",
    "    \"Curacao\": \"North America\", \n",
    "    \"Democratic Republic of Congo\": \"Africa\",\n",
    "    \"Kosovo\": \"Europe\",\n",
    "    \"Europe\": \"Europe\",\n",
    "    \"North America (excl. USA)\": \"North America\",\n",
    "    \"East Timor\": \"Asia\",\n",
    "    'Micronesia (country)': 'Oceania',\n",
    "    'North America (GCP)': 'North America',\n",
    "    'South America (GCP)': 'South America',\n",
    "  \n",
    "}\n",
    "\n",
    "# Fill in missing continent data\n",
    "data_cleaned['continent'] = data_cleaned['country'].apply(lambda x: manual_mappings.get(x, None) if x in manual_mappings else map_country_to_continent(x))\n",
    "\n"
   ]
  },
  {
   "cell_type": "code",
   "execution_count": 31,
   "metadata": {},
   "outputs": [
    {
     "data": {
      "text/plain": [
       "array(['Africa (GCP)', 'Bonaire Sint Eustatius and Saba', 'Europe (GCP)',\n",
       "       'Europe (excl. EU-27)', 'Europe (excl. EU-28)',\n",
       "       'European Union (27)', 'European Union (28)',\n",
       "       'High-income countries', 'International aviation',\n",
       "       'International shipping', 'Kuwaiti Oil Fires (GCP)',\n",
       "       'Low-income countries', 'Lower-middle-income countries',\n",
       "       'Middle East (GCP)', 'Non-OECD (GCP)', 'OECD (GCP)',\n",
       "       'Oceania (GCP)', 'Ryukyu Islands (GCP)', 'Saint Helena',\n",
       "       'Sint Maarten (Dutch part)', 'Upper-middle-income countries',\n",
       "       'World'], dtype=object)"
      ]
     },
     "execution_count": 31,
     "metadata": {},
     "output_type": "execute_result"
    }
   ],
   "source": [
    "data_cleaned[data_cleaned['continent'].isnull()].country.unique()"
   ]
  },
  {
   "cell_type": "code",
   "execution_count": 32,
   "metadata": {},
   "outputs": [],
   "source": [
    "values_to_remove = ['Africa (GCP)','Europe (GCP)', 'Europe (excl. EU-27)', 'Europe (excl. EU-28)',\n",
    "       'European Union (27)', 'European Union (28)',\n",
    "       'High-income countries', 'International aviation',\n",
    "       'International shipping','Bonaire Sint Eustatius and Saba','Kuwaiti Oil Fires (GCP)',\n",
    "       'Low-income countries', 'Lower-middle-income countries',  'Middle East (GCP)', 'Non-OECD (GCP)', 'OECD (GCP)',\n",
    "       'Oceania (GCP)', 'Ryukyu Islands (GCP)', 'Saint Helena',\n",
    "       'Sint Maarten (Dutch part)',\n",
    "       'Upper-middle-income countries','World','Asia (excl. China and India)','Europe','North America','South America','North America (GCP)',\n",
    "       'North America (excl. USA)','South America (GCP)','Oceania','Africa','Asia']  \n",
    "\n",
    "data_cleaned = data_cleaned[~data_cleaned['country'].isin(values_to_remove)]\n",
    "       "
   ]
  },
  {
   "cell_type": "code",
   "execution_count": 33,
   "metadata": {},
   "outputs": [
    {
     "data": {
      "text/plain": [
       "Index(['country', 'year', 'iso_code', 'population', 'gdp', 'cement_co2',\n",
       "       'cement_co2_per_capita', 'co2', 'co2_growth_abs', 'co2_growth_prct',\n",
       "       'co2_including_luc', 'co2_including_luc_growth_abs',\n",
       "       'co2_including_luc_growth_prct', 'co2_including_luc_per_capita',\n",
       "       'co2_including_luc_per_gdp', 'co2_including_luc_per_unit_energy',\n",
       "       'co2_per_capita', 'co2_per_gdp', 'co2_per_unit_energy', 'coal_co2',\n",
       "       'coal_co2_per_capita', 'consumption_co2', 'consumption_co2_per_capita',\n",
       "       'consumption_co2_per_gdp', 'cumulative_cement_co2', 'cumulative_co2',\n",
       "       'cumulative_co2_including_luc', 'cumulative_coal_co2',\n",
       "       'cumulative_flaring_co2', 'cumulative_gas_co2', 'cumulative_luc_co2',\n",
       "       'cumulative_oil_co2', 'energy_per_capita', 'energy_per_gdp',\n",
       "       'flaring_co2', 'flaring_co2_per_capita', 'gas_co2',\n",
       "       'gas_co2_per_capita', 'ghg_excluding_lucf_per_capita', 'ghg_per_capita',\n",
       "       'land_use_change_co2', 'land_use_change_co2_per_capita', 'methane',\n",
       "       'methane_per_capita', 'nitrous_oxide', 'nitrous_oxide_per_capita',\n",
       "       'oil_co2', 'oil_co2_per_capita', 'primary_energy_consumption',\n",
       "       'share_global_cement_co2', 'share_global_co2',\n",
       "       'share_global_co2_including_luc', 'share_global_coal_co2',\n",
       "       'share_global_cumulative_cement_co2', 'share_global_cumulative_co2',\n",
       "       'share_global_cumulative_co2_including_luc',\n",
       "       'share_global_cumulative_coal_co2',\n",
       "       'share_global_cumulative_flaring_co2',\n",
       "       'share_global_cumulative_gas_co2', 'share_global_cumulative_luc_co2',\n",
       "       'share_global_cumulative_oil_co2', 'share_global_flaring_co2',\n",
       "       'share_global_gas_co2', 'share_global_luc_co2', 'share_global_oil_co2',\n",
       "       'share_of_temperature_change_from_ghg', 'temperature_change_from_ch4',\n",
       "       'temperature_change_from_co2', 'temperature_change_from_ghg',\n",
       "       'temperature_change_from_n2o', 'total_ghg', 'total_ghg_excluding_lucf',\n",
       "       'trade_co2', 'trade_co2_share', 'continent'],\n",
       "      dtype='object')"
      ]
     },
     "execution_count": 33,
     "metadata": {},
     "output_type": "execute_result"
    }
   ],
   "source": [
    "data_cleaned.columns"
   ]
  },
  {
   "cell_type": "code",
   "execution_count": 34,
   "metadata": {},
   "outputs": [],
   "source": [
    "columns_to_include = ['country', 'continent', 'year','iso_code',  'population', 'gdp','co2','co2_growth_abs', 'co2_growth_prct',\n",
    "       'co2_per_capita', 'co2_per_gdp', 'co2_per_unit_energy', 'coal_co2','flaring_co2', 'gas_co2',\n",
    "       'cumulative_co2',\n",
    "       'cumulative_co2_including_luc'\n",
    "       ]\n",
    "\n",
    "data_cleaned = data_cleaned[columns_to_include]"
   ]
  },
  {
   "cell_type": "code",
   "execution_count": 35,
   "metadata": {},
   "outputs": [
    {
     "data": {
      "text/plain": [
       "(3376, 17)"
      ]
     },
     "execution_count": 35,
     "metadata": {},
     "output_type": "execute_result"
    }
   ],
   "source": [
    "data_cleaned.shape"
   ]
  },
  {
   "cell_type": "code",
   "execution_count": 36,
   "metadata": {},
   "outputs": [],
   "source": [
    "data_cleaned.to_csv(\"cleaned_data.csv\", index=False)"
   ]
  },
  {
   "cell_type": "code",
   "execution_count": null,
   "metadata": {},
   "outputs": [],
   "source": []
  }
 ],
 "metadata": {
  "kernelspec": {
   "display_name": "Python 3",
   "language": "python",
   "name": "python3"
  },
  "language_info": {
   "codemirror_mode": {
    "name": "ipython",
    "version": 3
   },
   "file_extension": ".py",
   "mimetype": "text/x-python",
   "name": "python",
   "nbconvert_exporter": "python",
   "pygments_lexer": "ipython3",
   "version": "3.11.11"
  }
 },
 "nbformat": 4,
 "nbformat_minor": 2
}
