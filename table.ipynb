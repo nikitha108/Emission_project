{
 "cells": [
  {
   "cell_type": "code",
   "execution_count": 7,
   "metadata": {},
   "outputs": [
    {
     "name": "stdout",
     "output_type": "stream",
     "text": [
      "Table 'emissions' created successfully in the database!\n"
     ]
    }
   ],
   "source": [
    "import pandas as pd\n",
    "from sqlalchemy import create_engine, types\n",
    "\n",
    "# Replace with your actual database connection details\n",
    "DB_TYPE = 'postgresql'  # Change to your database type (e.g., 'mysql', 'sqlite')\n",
    "DB_HOST = 'localhost'\n",
    "DB_NAME = 'sql_project'\n",
    "DB_USER = 'postgres'\n",
    "DB_PASSWORD = '1911'\n",
    "DB_PORT = '5432'\n",
    "\n",
    "# Path to your dataset\n",
    "csv_file_path = 'C:/Users/admin/Desktop/Portfolio projects/Emission_project/dataset/cleaned_data.csv'\n",
    "\n",
    "# Load the dataset\n",
    "df = pd.read_csv(csv_file_path)\n",
    "\n",
    "# Define a function to map pandas dtypes to SQLAlchemy types\n",
    "def map_dtype(dtype):\n",
    "    if pd.api.types.is_integer_dtype(dtype):\n",
    "        return types.Integer()\n",
    "    elif pd.api.types.is_float_dtype(dtype):\n",
    "        return types.Float()\n",
    "    elif pd.api.types.is_datetime64_any_dtype(dtype):\n",
    "        return types.DateTime()\n",
    "    elif pd.api.types.is_bool_dtype(dtype):\n",
    "        return types.Boolean()\n",
    "    else:\n",
    "        return types.String()  # Default to VARCHAR\n",
    "\n",
    "# Create a dictionary of column types\n",
    "sqlalchemy_column_types = {col: map_dtype(dtype) for col, dtype in df.dtypes.items()}\n",
    "\n",
    "# Create a SQLAlchemy engine\n",
    "engine = create_engine(f\"{DB_TYPE}://{DB_USER}:{DB_PASSWORD}@{DB_HOST}:{DB_PORT}/{DB_NAME}\")\n",
    "\n",
    "# Table name\n",
    "table_name = 'emissions'\n",
    "\n",
    "# Create the table in the database\n",
    "try:\n",
    "    df.to_sql(\n",
    "        name=table_name,\n",
    "        con=engine,\n",
    "        if_exists='replace',  # Replace if the table already exists\n",
    "        index=False,          # Do not write DataFrame index as a column\n",
    "        dtype=sqlalchemy_column_types  # Use the mapped column types\n",
    "    )\n",
    "    print(f\"Table '{table_name}' created successfully in the database!\")\n",
    "except Exception as e:\n",
    "    print(\"Error creating table:\", e)\n",
    "\n"
   ]
  },
  {
   "cell_type": "code",
   "execution_count": null,
   "metadata": {},
   "outputs": [],
   "source": []
  }
 ],
 "metadata": {
  "kernelspec": {
   "display_name": "Python 3",
   "language": "python",
   "name": "python3"
  },
  "language_info": {
   "codemirror_mode": {
    "name": "ipython",
    "version": 3
   },
   "file_extension": ".py",
   "mimetype": "text/x-python",
   "name": "python",
   "nbconvert_exporter": "python",
   "pygments_lexer": "ipython3",
   "version": "3.11.11"
  }
 },
 "nbformat": 4,
 "nbformat_minor": 2
}
